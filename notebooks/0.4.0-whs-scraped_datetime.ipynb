{
 "cells": [
  {
   "cell_type": "code",
   "execution_count": 1,
   "metadata": {},
   "outputs": [
    {
     "name": "stdout",
     "output_type": "stream",
     "text": [
      "/Users/officialbiznas/Documents/GitHub/stockFries/app\n"
     ]
    }
   ],
   "source": [
    "import os\n",
    "from datetime import datetime\n",
    "import os\n",
    "import pandas as pd\n",
    "import json\n",
    "import os, sys\n",
    "print(os.path.join(os.path.dirname(os.getcwd()), \"app\"))\n",
    "\n",
    "sys.path.append(\"/Users/officialbiznas/Documents/GitHub/stockFries/app\")\n",
    "import scraper\n",
    "import config\n",
    "import requests\n",
    "from bs4 import BeautifulSoup"
   ]
  },
  {
   "cell_type": "code",
   "execution_count": 2,
   "metadata": {},
   "outputs": [
    {
     "data": {
      "text/plain": [
       "'2020-10-17'"
      ]
     },
     "execution_count": 2,
     "metadata": {},
     "output_type": "execute_result"
    }
   ],
   "source": [
    "fn = os.path.join(os.path.dirname(os.getcwd()),'app','json_df.txt')\n",
    "datetime.fromtimestamp(os.path.getmtime(fn)).strftime('%Y-%m-%d')"
   ]
  },
  {
   "cell_type": "markdown",
   "metadata": {},
   "source": [
    "Full Pipeline"
   ]
  },
  {
   "cell_type": "code",
   "execution_count": 3,
   "metadata": {
    "scrolled": true
   },
   "outputs": [
    {
     "name": "stdout",
     "output_type": "stream",
     "text": [
      "2020-11-22 18:37:15.767681  :: Scrpaing ::  ['https://www.sec.gov/Archives/edgar/data/1535392/000156761920019715/xslForm13F_X01/form13fInfoTable.xml', 'https://www.sec.gov/Archives/edgar/data/1535392/000156761920015183/xslForm13F_X01/form13fInfoTable.xml']\n",
      "2020-11-22 18:37:16.641776  :: Scrpaing ::  ['https://www.sec.gov/Archives/edgar/data/1544676/000154467620000009/xslForm13F_X01/13fv3.xml', 'https://www.sec.gov/Archives/edgar/data/1544676/000154467620000008/xslForm13F_X01/13f.xml']\n",
      "2020-11-22 18:37:17.523893  :: Scrpaing ::  ['https://www.sec.gov/Archives/edgar/data/1425649/000110465920125719/xslForm13F_X01/infotable.xml', 'https://www.sec.gov/Archives/edgar/data/1425649/000110465920095369/xslForm13F_X01/infotable.xml']\n",
      "We got an error here!: max() arg is an empty sequence\n",
      "2020-11-22 18:37:18.572668  :: Scrpaing ::  ['https://www.sec.gov/Archives/edgar/data/1104186/000110418620000006/xslForm13F_X01/t13f-0920.xml', 'https://www.sec.gov/Archives/edgar/data/1104186/000110418620000005/xslForm13F_X01/t13f-0620.xml']\n",
      "2020-11-22 18:37:19.500770  :: Scrpaing ::  ['https://www.sec.gov/Archives/edgar/data/1226355/000122635519000012/xslForm13F_X01/Harvest13f_3q2019.inftab.xml', 'https://www.sec.gov/Archives/edgar/data/1226355/000122635519000009/xslForm13F_X01/Harvest13f_2q2019.inftab.xml']\n",
      "2020-11-22 18:37:20.320901  :: Scrpaing ::  ['https://www.sec.gov/Archives/edgar/data/1491072/000131586320000947/xslForm13F_X01/ansonfunds3q20.inftab.xml', 'https://www.sec.gov/Archives/edgar/data/1491072/000131586320000688/xslForm13F_X01/ansonfunds2q20.inftab.xml']\n",
      "2020-11-22 18:37:21.249509  :: Scrpaing ::  ['https://www.sec.gov/Archives/edgar/data/1323645/000132364520000005/xslForm13F_X01/13F_2020-09-30.xml', 'https://www.sec.gov/Archives/edgar/data/1323645/000132364520000004/xslForm13F_X01/13F20200630V4.xml']\n",
      "2020-11-22 18:37:23.425137  :: Scrpaing ::  ['https://www.sec.gov/Archives/edgar/data/1609074/000117266120002232/xslForm13F_X01/infotable.xml', 'https://www.sec.gov/Archives/edgar/data/1609074/000117266120001693/xslForm13F_X01/infotable.xml']\n",
      "2020-11-22 18:37:24.384882  :: Scrpaing ::  ['https://www.sec.gov/Archives/edgar/data/1050417/000091957420007075/xslForm13F_X01/infotable.xml', 'https://www.sec.gov/Archives/edgar/data/1050417/000091957420005235/xslForm13F_X01/infotable.xml']\n",
      "2020-11-22 18:37:25.605786  :: Scrpaing ::  ['https://www.sec.gov/Archives/edgar/data/1547007/000117266120002285/xslForm13F_X01/infotable.xml', 'https://www.sec.gov/Archives/edgar/data/1547007/000117266120001753/xslForm13F_X01/infotable.xml']\n",
      "2020-11-22 18:37:26.479971  :: Scrpaing ::  ['https://www.sec.gov/Archives/edgar/data/1590569/000091957418007007/xslForm13F_X01/infotable.xml', 'https://www.sec.gov/Archives/edgar/data/1590569/000091957418005494/xslForm13F_X01/infotable.xml']\n",
      "2020-11-22 18:37:27.449521  :: Scrpaing ::  ['https://www.sec.gov/Archives/edgar/data/1348145/000131586320000952/xslForm13F_X01/vradvisory3q20amd.inftab.xml', 'https://www.sec.gov/Archives/edgar/data/1348145/000131586320000949/xslForm13F_X01/vradvisory3q20.inftab.xml']\n",
      "2020-11-22 18:37:28.239055  :: Scrpaing ::  ['https://www.sec.gov/Archives/edgar/data/1499066/000117266120002152/xslForm13F_X01/infotable.xml', 'https://www.sec.gov/Archives/edgar/data/1499066/000117266120001678/xslForm13F_X01/infotable.xml']\n",
      "We got an error here!: max() arg is an empty sequence\n",
      "2020-11-22 18:37:29.133109  :: Scrpaing ::  ['https://www.sec.gov/Archives/edgar/data/1326389/000106299320005729/xslForm13F_X01/form13fInfoTable.xml', 'https://www.sec.gov/Archives/edgar/data/1326389/000106299320004011/xslForm13F_X01/form13fInfoTable.xml']\n",
      "We got an error here!: max() arg is an empty sequence\n",
      "2020-11-22 18:37:31.096306  :: Scrpaing ::  ['https://www.sec.gov/Archives/edgar/data/1358706/000117266120002136/xslForm13F_X01/infotable.xml', 'https://www.sec.gov/Archives/edgar/data/1358706/000117266120001661/xslForm13F_X01/infotable.xml']\n",
      "2020-11-22 18:37:31.922074  :: Scrpaing ::  ['https://www.sec.gov/Archives/edgar/data/1112520/000111252020000024/xslForm13F_X01/infotable.xml', 'https://www.sec.gov/Archives/edgar/data/1112520/000111252020000022/xslForm13F_X01/infotable.xml']\n",
      "2020-11-22 18:37:32.838444  :: Scrpaing ::  ['https://www.sec.gov/Archives/edgar/data/1656456/000165645620000004/xslForm13F_X01/Form13FInfoTable.xml', 'https://www.sec.gov/Archives/edgar/data/1656456/000165645620000003/xslForm13F_X01/Form13FInfoTable.xml']\n",
      "2020-11-22 18:37:33.746548  :: Scrpaing ::  ['https://www.sec.gov/Archives/edgar/data/1568820/000160658720000686/xslForm13F_X01/form13InfoTable.xml', 'https://www.sec.gov/Archives/edgar/data/1568820/000160658720000320/xslForm13F_X01/form13InfoTable.xml']\n",
      "2020-11-22 18:37:34.870741  :: Scrpaing ::  ['https://www.sec.gov/Archives/edgar/data/1063296/000090571820001103/xslForm13F_X01/infotable.xml', 'https://www.sec.gov/Archives/edgar/data/1063296/000090571820000853/xslForm13F_X01/infotable.xml']\n",
      "2020-11-22 18:37:35.714498  :: Scrpaing ::  ['https://www.sec.gov/Archives/edgar/data/1263508/000110465920125767/xslForm13F_X01/infotable.xml', 'https://www.sec.gov/Archives/edgar/data/1263508/000110465920095518/xslForm13F_X01/infotable.xml']\n",
      "2020-11-22 18:37:36.660625  :: Scrpaing ::  ['https://www.sec.gov/Archives/edgar/data/1135730/000091957420007152/xslForm13F_X01/infotable.xml', 'https://www.sec.gov/Archives/edgar/data/1135730/000091957420005282/xslForm13F_X01/infotable.xml']\n",
      "2020-11-22 18:37:37.691993  :: Scrpaing ::  ['https://www.sec.gov/Archives/edgar/data/1535472/000156761920019842/xslForm13F_X01/form13fInfoTable.xml', 'https://www.sec.gov/Archives/edgar/data/1535472/000156761920015441/xslForm13F_X01/form13fInfoTable.xml']\n",
      "2020-11-22 18:37:38.519836  :: Scrpaing ::  ['https://www.sec.gov/Archives/edgar/data/1549575/000154957520000012/xslForm13F_X01/infotable.xml', 'https://www.sec.gov/Archives/edgar/data/1549575/000154957520000010/xslForm13F_X01/infotable.xml']\n",
      "2020-11-22 18:37:39.409488  :: Scrpaing ::  ['https://www.sec.gov/Archives/edgar/data/1048445/000156761920019906/xslForm13F_X01/form13fInfoTable.xml', 'https://www.sec.gov/Archives/edgar/data/1048445/000156761920015505/xslForm13F_X01/form13fInfoTable.xml']\n",
      "2020-11-22 18:37:40.296344  :: Scrpaing ::  ['https://www.sec.gov/Archives/edgar/data/1107310/000108514620003041/xslForm13F_X01/infotable.xml', 'https://www.sec.gov/Archives/edgar/data/1107310/000108514620002329/xslForm13F_X01/infotable.xml']\n",
      "2020-11-22 18:37:41.204055  :: Scrpaing ::  ['https://www.sec.gov/Archives/edgar/data/1312908/000117266120002321/xslForm13F_X01/infotable.xml', 'https://www.sec.gov/Archives/edgar/data/1312908/000117266120001828/xslForm13F_X01/infotable.xml']\n",
      "2020-11-22 18:37:42.028785  :: Scrpaing ::  ['https://www.sec.gov/Archives/edgar/data/1138995/000156761920019856/xslForm13F_X01/form13fInfoTable.xml', 'https://www.sec.gov/Archives/edgar/data/1138995/000156761920015452/xslForm13F_X01/form13fInfoTable.xml']\n",
      "2020-11-22 18:37:42.937030  :: Scrpaing ::  ['https://www.sec.gov/Archives/edgar/data/1353316/000135331620000010/xslForm13F_X01/Hound13FQ3.xml', 'https://www.sec.gov/Archives/edgar/data/1353316/000135331620000008/xslForm13F_X01/Hound13FQ2NEW.xml']\n",
      "2020-11-22 18:37:43.990269  :: Scrpaing ::  ['https://www.sec.gov/Archives/edgar/data/921669/000156761920019587/xslForm13F_X01/form13fInfoTable.xml', 'https://www.sec.gov/Archives/edgar/data/921669/000156761920015547/xslForm13F_X01/form13fInfoTable.xml']\n",
      "2020-11-22 18:37:44.803947  :: Scrpaing ::  ['https://www.sec.gov/Archives/edgar/data/1159159/000090266420003985/xslForm13F_X01/infotable.xml', 'https://www.sec.gov/Archives/edgar/data/1159159/000090266420003064/xslForm13F_X01/infotable.xml']\n",
      "2020-11-22 18:37:45.592306  :: Scrpaing ::  ['https://www.sec.gov/Archives/edgar/data/1106500/000117266120002113/xslForm13F_X01/infotable.xml', 'https://www.sec.gov/Archives/edgar/data/1106500/000117266120001698/xslForm13F_X01/infotable.xml']\n",
      "2020-11-22 18:37:46.495861  :: Scrpaing ::  ['https://www.sec.gov/Archives/edgar/data/1061165/000156761920019876/xslForm13F_X01/form13fInfoTable.xml', 'https://www.sec.gov/Archives/edgar/data/1061165/000156761920015477/xslForm13F_X01/form13fInfoTable.xml']\n",
      "2020-11-22 18:37:47.295680  :: Scrpaing ::  ['https://www.sec.gov/Archives/edgar/data/1541996/000117266120000286/xslForm13F_X01/infotable.xml', 'https://www.sec.gov/Archives/edgar/data/1541996/000117266119002371/xslForm13F_X01/infotable.xml']\n",
      "2020-11-22 18:37:48.287506  :: Scrpaing ::  ['https://www.sec.gov/Archives/edgar/data/898202/000156761919004204/xslForm13F_X01/form13fInfoTable.xml', 'https://www.sec.gov/Archives/edgar/data/898202/000156761918006008/xslForm13F_X01/form13fInfoTable.xml']\n",
      "2020-11-22 18:37:49.229479  :: Scrpaing ::  ['https://www.sec.gov/Archives/edgar/data/1168664/000091957418007257/xslForm13F_X01/infotable.xml', 'https://www.sec.gov/Archives/edgar/data/1168664/000091957418005645/xslForm13F_X01/infotable.xml']\n",
      "2020-11-22 18:37:50.046014  :: Scrpaing ::  ['https://www.sec.gov/Archives/edgar/data/919085/000114036117040953/xslForm13F_X01/form13fInfoTable.xml', 'https://www.sec.gov/Archives/edgar/data/919085/000114036117030247/xslForm13F_X01/form13fInfoTable.xml']\n",
      "2020-11-22 18:37:50.880959  :: Scrpaing ::  ['https://www.sec.gov/Archives/edgar/data/1336528/000117266120002031/xslForm13F_X01/infotable.xml', 'https://www.sec.gov/Archives/edgar/data/1336528/000117266120001845/xslForm13F_X01/infotable.xml']\n",
      "2020-11-22 18:37:51.702001  :: Scrpaing ::  ['https://www.sec.gov/Archives/edgar/data/1346824/000110465920125858/xslForm13F_X01/infotable.xml', 'https://www.sec.gov/Archives/edgar/data/1346824/000110465920095562/xslForm13F_X01/infotable.xml']\n",
      "We got an error here!: max() arg is an empty sequence\n",
      "2020-11-22 18:37:52.762989  :: Scrpaing ::  ['https://www.sec.gov/Archives/edgar/data/1029160/000090266420003949/xslForm13F_X01/infotable.xml', 'https://www.sec.gov/Archives/edgar/data/1029160/000090266420003072/xslForm13F_X01/infotable.xml']\n",
      "2020-11-22 18:37:54.211585  :: Scrpaing ::  ['https://www.sec.gov/Archives/edgar/data/807985/000080798520000026/xslForm13F_X01/13f0920.xml', 'https://www.sec.gov/Archives/edgar/data/807985/000080798520000021/xslForm13F_X01/13f0620.xml']\n",
      "2020-11-22 18:37:55.045302  :: Scrpaing ::  ['https://www.sec.gov/Archives/edgar/data/919468/000117266119001064/xslForm13F_X01/infotable.xml', 'https://www.sec.gov/Archives/edgar/data/919468/000117266119000232/xslForm13F_X01/infotable.xml']\n",
      "2020-11-22 18:37:55.871306  :: Scrpaing ::  ['https://www.sec.gov/Archives/edgar/data/1517137/000092189520002937/xslForm13F_X01/infotable.xml', 'https://www.sec.gov/Archives/edgar/data/1517137/000092189520002245/xslForm13F_X01/infotable.xml']\n",
      "2020-11-22 18:37:56.748168  :: Scrpaing ::  ['https://www.sec.gov/Archives/edgar/data/1647251/000164725120000008/xslForm13F_X01/Form13fInfoTable.xml', 'https://www.sec.gov/Archives/edgar/data/1647251/000164725120000006/xslForm13F_X01/Form13fInfoTable.xml']\n",
      "2020-11-22 18:37:57.631207  :: Scrpaing ::  ['https://www.sec.gov/Archives/edgar/data/1167483/000091957420007148/xslForm13F_X01/infotable.xml', 'https://www.sec.gov/Archives/edgar/data/1167483/000091957420005337/xslForm13F_X01/infotable.xml']\n",
      "2020-11-22 18:37:58.474982  :: Scrpaing ::  ['https://www.sec.gov/Archives/edgar/data/1345471/000134547120000067/xslForm13F_X01/infochart093020.xml', 'https://www.sec.gov/Archives/edgar/data/1345471/000134547120000054/xslForm13F_X01/infochart13F0630amend2.xml']\n",
      "2020-11-22 18:37:59.262282  :: Scrpaing ::  ['https://www.sec.gov/Archives/edgar/data/1103804/000110380420000009/xslForm13F_X01/MSFS13F093020.xml', 'https://www.sec.gov/Archives/edgar/data/1103804/000110380420000007/xslForm13F_X01/MSFS13F063020.xml']\n",
      "Error in file Copy:  getcwd() takes no arguments (1 given)\n",
      "CPU times: user 14.4 s, sys: 538 ms, total: 14.9 s\n",
      "Wall time: 44.6 s\n"
     ]
    }
   ],
   "source": [
    "%%time\n",
    "scraper.pandas_analysis(config.fund_dict)"
   ]
  },
  {
   "cell_type": "markdown",
   "metadata": {},
   "source": [
    "### Already scraped"
   ]
  },
  {
   "cell_type": "code",
   "execution_count": 4,
   "metadata": {},
   "outputs": [
    {
     "name": "stdout",
     "output_type": "stream",
     "text": [
      "json_df_dataByHedgeFund.txt\n"
     ]
    },
    {
     "data": {
      "text/html": [
       "<div>\n",
       "<style scoped>\n",
       "    .dataframe tbody tr th:only-of-type {\n",
       "        vertical-align: middle;\n",
       "    }\n",
       "\n",
       "    .dataframe tbody tr th {\n",
       "        vertical-align: top;\n",
       "    }\n",
       "\n",
       "    .dataframe thead th {\n",
       "        text-align: right;\n",
       "    }\n",
       "</style>\n",
       "<table border=\"1\" class=\"dataframe\">\n",
       "  <thead>\n",
       "    <tr style=\"text-align: right;\">\n",
       "      <th></th>\n",
       "      <th>link</th>\n",
       "      <th>recent_filing_date</th>\n",
       "      <th>current_holdings</th>\n",
       "      <th>previous_holdings</th>\n",
       "    </tr>\n",
       "  </thead>\n",
       "  <tbody>\n",
       "    <tr>\n",
       "      <th>STARBOARD VALUE LP</th>\n",
       "      <td>https://www.sec.gov/cgi-bin/browse-edgar?actio...</td>\n",
       "      <td>2020-11-13</td>\n",
       "      <td>[{'CUSIP': '004498101', 'Company': 'ACI WORLDW...</td>\n",
       "      <td>[{'CUSIP': '004498101', 'Company': 'ACI WORLDW...</td>\n",
       "    </tr>\n",
       "    <tr>\n",
       "      <th>TCI FUND MANAGEMENT LTD</th>\n",
       "      <td>https://www.sec.gov/cgi-bin/browse-edgar?actio...</td>\n",
       "      <td>2020-11-16</td>\n",
       "      <td>[{'CUSIP': '02079K107', 'Company': 'ALPHABET I...</td>\n",
       "      <td>[{'CUSIP': '02079K107', 'Company': 'ALPHABET I...</td>\n",
       "    </tr>\n",
       "    <tr>\n",
       "      <th>TIGER GLOBAL MANAGEMENT LLC</th>\n",
       "      <td>https://www.sec.gov/cgi-bin/browse-edgar?actio...</td>\n",
       "      <td>2020-11-16</td>\n",
       "      <td>[{'CUSIP': '282914100', 'Company': '8X8 INC NE...</td>\n",
       "      <td>[{'CUSIP': '282914100', 'Company': '8X8 INC NE...</td>\n",
       "    </tr>\n",
       "    <tr>\n",
       "      <th>TRIAN FUND MANAGEMENT, L.P.</th>\n",
       "      <td>https://www.sec.gov/cgi-bin/browse-edgar?actio...</td>\n",
       "      <td>2020-11-16</td>\n",
       "      <td>[{'CUSIP': '369604103', 'Company': 'General El...</td>\n",
       "      <td>[{'CUSIP': '369604103', 'Company': 'General El...</td>\n",
       "    </tr>\n",
       "    <tr>\n",
       "      <th>VIKING GLOBAL INVESTORS LP</th>\n",
       "      <td>https://www.sec.gov/cgi-bin/browse-edgar?actio...</td>\n",
       "      <td>2020-11-16</td>\n",
       "      <td>[{'CUSIP': '00650F109', 'Company': 'ADAPTIVE B...</td>\n",
       "      <td>[{'CUSIP': '00650F109', 'Company': 'ADAPTIVE B...</td>\n",
       "    </tr>\n",
       "  </tbody>\n",
       "</table>\n",
       "</div>"
      ],
      "text/plain": [
       "                                                                          link  \\\n",
       "STARBOARD VALUE LP           https://www.sec.gov/cgi-bin/browse-edgar?actio...   \n",
       "TCI FUND MANAGEMENT LTD      https://www.sec.gov/cgi-bin/browse-edgar?actio...   \n",
       "TIGER GLOBAL MANAGEMENT LLC  https://www.sec.gov/cgi-bin/browse-edgar?actio...   \n",
       "TRIAN FUND MANAGEMENT, L.P.  https://www.sec.gov/cgi-bin/browse-edgar?actio...   \n",
       "VIKING GLOBAL INVESTORS LP   https://www.sec.gov/cgi-bin/browse-edgar?actio...   \n",
       "\n",
       "                            recent_filing_date  \\\n",
       "STARBOARD VALUE LP                  2020-11-13   \n",
       "TCI FUND MANAGEMENT LTD             2020-11-16   \n",
       "TIGER GLOBAL MANAGEMENT LLC         2020-11-16   \n",
       "TRIAN FUND MANAGEMENT, L.P.         2020-11-16   \n",
       "VIKING GLOBAL INVESTORS LP          2020-11-16   \n",
       "\n",
       "                                                              current_holdings  \\\n",
       "STARBOARD VALUE LP           [{'CUSIP': '004498101', 'Company': 'ACI WORLDW...   \n",
       "TCI FUND MANAGEMENT LTD      [{'CUSIP': '02079K107', 'Company': 'ALPHABET I...   \n",
       "TIGER GLOBAL MANAGEMENT LLC  [{'CUSIP': '282914100', 'Company': '8X8 INC NE...   \n",
       "TRIAN FUND MANAGEMENT, L.P.  [{'CUSIP': '369604103', 'Company': 'General El...   \n",
       "VIKING GLOBAL INVESTORS LP   [{'CUSIP': '00650F109', 'Company': 'ADAPTIVE B...   \n",
       "\n",
       "                                                             previous_holdings  \n",
       "STARBOARD VALUE LP           [{'CUSIP': '004498101', 'Company': 'ACI WORLDW...  \n",
       "TCI FUND MANAGEMENT LTD      [{'CUSIP': '02079K107', 'Company': 'ALPHABET I...  \n",
       "TIGER GLOBAL MANAGEMENT LLC  [{'CUSIP': '282914100', 'Company': '8X8 INC NE...  \n",
       "TRIAN FUND MANAGEMENT, L.P.  [{'CUSIP': '369604103', 'Company': 'General El...  \n",
       "VIKING GLOBAL INVESTORS LP   [{'CUSIP': '00650F109', 'Company': 'ADAPTIVE B...  "
      ]
     },
     "execution_count": 4,
     "metadata": {},
     "output_type": "execute_result"
    }
   ],
   "source": [
    "fn = 'json_df_dataByHedgeFund.txt'\n",
    "fn2 = 'json_df_no_ticker.txt'\n",
    "#fn = os.path.join(os.path.dirname(os.getcwd()), 'app', 'json_df.txt') #app/json_df.txt\n",
    "print(fn)\n",
    "with open(fn, 'r') as f:\n",
    "    json_df = json.load(f)\n",
    "df = pd.read_json(json_df, orient='split').T.rename(columns={0:'link',1:'recent_filing_date',2:'current_holdings',3:'previous_holdings'})\n",
    "df.tail()"
   ]
  },
  {
   "cell_type": "code",
   "execution_count": 5,
   "metadata": {},
   "outputs": [],
   "source": [
    "df_most_recent = df[df.recent_filing_date == df.recent_filing_date.max()].head(1)"
   ]
  },
  {
   "cell_type": "code",
   "execution_count": 6,
   "metadata": {},
   "outputs": [
    {
     "data": {
      "text/html": [
       "<div>\n",
       "<style scoped>\n",
       "    .dataframe tbody tr th:only-of-type {\n",
       "        vertical-align: middle;\n",
       "    }\n",
       "\n",
       "    .dataframe tbody tr th {\n",
       "        vertical-align: top;\n",
       "    }\n",
       "\n",
       "    .dataframe thead th {\n",
       "        text-align: right;\n",
       "    }\n",
       "</style>\n",
       "<table border=\"1\" class=\"dataframe\">\n",
       "  <thead>\n",
       "    <tr style=\"text-align: right;\">\n",
       "      <th></th>\n",
       "      <th>link</th>\n",
       "      <th>recent_filing_date</th>\n",
       "      <th>current_holdings</th>\n",
       "      <th>previous_holdings</th>\n",
       "    </tr>\n",
       "  </thead>\n",
       "  <tbody>\n",
       "    <tr>\n",
       "      <th>VR Advisory Services</th>\n",
       "      <td>https://www.sec.gov/cgi-bin/browse-edgar?actio...</td>\n",
       "      <td>2020-11-17</td>\n",
       "      <td>[{'CUSIP': 'L00849106', 'Company': 'ADECOAGRO ...</td>\n",
       "      <td>[{'CUSIP': 'L00849106', 'Company': 'ADECOAGRO ...</td>\n",
       "    </tr>\n",
       "  </tbody>\n",
       "</table>\n",
       "</div>"
      ],
      "text/plain": [
       "                                                                   link  \\\n",
       "VR Advisory Services  https://www.sec.gov/cgi-bin/browse-edgar?actio...   \n",
       "\n",
       "                     recent_filing_date  \\\n",
       "VR Advisory Services         2020-11-17   \n",
       "\n",
       "                                                       current_holdings  \\\n",
       "VR Advisory Services  [{'CUSIP': 'L00849106', 'Company': 'ADECOAGRO ...   \n",
       "\n",
       "                                                      previous_holdings  \n",
       "VR Advisory Services  [{'CUSIP': 'L00849106', 'Company': 'ADECOAGRO ...  "
      ]
     },
     "execution_count": 6,
     "metadata": {},
     "output_type": "execute_result"
    }
   ],
   "source": [
    "df_most_recent"
   ]
  },
  {
   "cell_type": "code",
   "execution_count": 26,
   "metadata": {},
   "outputs": [
    {
     "data": {
      "text/plain": [
       "'2020-10-23'"
      ]
     },
     "execution_count": 26,
     "metadata": {},
     "output_type": "execute_result"
    }
   ],
   "source": [
    "df.recent_filing_date.max()"
   ]
  },
  {
   "cell_type": "code",
   "execution_count": 38,
   "metadata": {},
   "outputs": [],
   "source": []
  },
  {
   "cell_type": "code",
   "execution_count": 45,
   "metadata": {},
   "outputs": [
    {
     "data": {
      "text/plain": [
       "'https://www.sec.gov/cgi-bin/browse-edgar?action=getcompany&CIK=1336528&owner=exclude&count=40&hidefilings=0'"
      ]
     },
     "execution_count": 45,
     "metadata": {},
     "output_type": "execute_result"
    }
   ],
   "source": [
    "df_most_recent.link.values[0]\n",
    "\n"
   ]
  },
  {
   "cell_type": "code",
   "execution_count": 15,
   "metadata": {},
   "outputs": [],
   "source": [
    "with open(config.scrapped_json_fn_hedgefund, 'r') as f:\n",
    "    hedge_fund_json_dg = json.load(f)\n",
    "df_recent_filing_head = pd.read_json(hedge_fund_json_dg, orient='split').T.rename(columns={0:'link',1:'recent_filing_date',2:'current_holdings',3:'previous_holdings'}) \\\n",
    "                    [df.recent_filing_date == df.recent_filing_date.max()].head(1)\n",
    "most_recent_filing_date = df_recent_filing_head.recent_filing_date.tolist()[0]\n",
    "most_recent_filing_url = df_recent_filing_head.link.tolist()[0]\n",
    "most_recent_filing_fund = df_recent_filing_head.index.tolist()[0]"
   ]
  },
  {
   "cell_type": "code",
   "execution_count": 16,
   "metadata": {},
   "outputs": [
    {
     "data": {
      "text/plain": [
       "'2020-11-17'"
      ]
     },
     "execution_count": 16,
     "metadata": {},
     "output_type": "execute_result"
    }
   ],
   "source": [
    "most_recent_filing_date"
   ]
  },
  {
   "cell_type": "code",
   "execution_count": 17,
   "metadata": {},
   "outputs": [
    {
     "data": {
      "text/plain": [
       "'VR Advisory Services'"
      ]
     },
     "execution_count": 17,
     "metadata": {},
     "output_type": "execute_result"
    }
   ],
   "source": [
    "most_recent_filing_fund"
   ]
  },
  {
   "cell_type": "code",
   "execution_count": 18,
   "metadata": {},
   "outputs": [
    {
     "data": {
      "text/plain": [
       "'https://www.sec.gov/cgi-bin/browse-edgar?action=getcompany&CIK=1348145&owner=exclude&count=40&hidefilings=0'"
      ]
     },
     "execution_count": 18,
     "metadata": {},
     "output_type": "execute_result"
    }
   ],
   "source": [
    "most_recent_filing_url"
   ]
  },
  {
   "cell_type": "code",
   "execution_count": null,
   "metadata": {},
   "outputs": [],
   "source": []
  }
 ],
 "metadata": {
  "kernelspec": {
   "display_name": "Python 3",
   "language": "python",
   "name": "python3"
  },
  "language_info": {
   "codemirror_mode": {
    "name": "ipython",
    "version": 3
   },
   "file_extension": ".py",
   "mimetype": "text/x-python",
   "name": "python",
   "nbconvert_exporter": "python",
   "pygments_lexer": "ipython3",
   "version": "3.7.9"
  }
 },
 "nbformat": 4,
 "nbformat_minor": 4
}
