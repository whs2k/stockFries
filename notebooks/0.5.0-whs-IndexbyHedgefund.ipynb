{
 "cells": [
  {
   "cell_type": "code",
   "execution_count": 80,
   "metadata": {},
   "outputs": [],
   "source": [
    "import pandas as pd\n",
    "import sys\n",
    "sys.path.append(\"/Users/officialbiznas/Documents/GitHub/stockFries/app\")\n",
    "import scraper\n",
    "import config\n",
    "import json\n",
    "import os\n",
    "import shutil"
   ]
  },
  {
   "cell_type": "code",
   "execution_count": 9,
   "metadata": {},
   "outputs": [],
   "source": [
    "with open(config.scrapped_json_fn_hedgefund, 'r') as f:\n",
    "    hedge_fund_json_dg = json.load(f)\n",
    "df_recent_filing = pd.read_json(hedge_fund_json_dg, orient='split').T.rename(columns={0:'link',1:'recent_filing_date',2:'current_holdings',3:'previous_holdings'})\n",
    "df_recent_filing_head = df_recent_filing [df_recent_filing.recent_filing_date == df_recent_filing.recent_filing_date.max()].head(1)\n",
    "most_recent_filing_date = df_recent_filing_head.recent_filing_date.tolist()[0]\n",
    "most_recent_filing_url = df_recent_filing_head.link.tolist()[0]\n",
    "most_recent_filing_fund = df_recent_filing_head.index.tolist()[0]"
   ]
  },
  {
   "cell_type": "code",
   "execution_count": 73,
   "metadata": {},
   "outputs": [
    {
     "name": "stdout",
     "output_type": "stream",
     "text": [
      "6\n"
     ]
    }
   ],
   "source": [
    "filings_by_fund = df_recent_filing.reset_index().rename(columns={'index':'fund_name'}) \\\n",
    "                    [['fund_name','recent_filing_date','current_holdings','previous_holdings','link']\n",
    "                    ].dropna().head(n=50).values.tolist()\n",
    "\n",
    "#list_of_invested_stocks = []\n",
    "for i, fund_filing in enumerate(filings_by_fund):\n",
    "    filings_by_fund_stocksOnly = [x['Company'] for x in fund_filing[2]]\n",
    "    #list_of_invested_stocks.append(filings_by_fund_stocksOnly)\n",
    "    filings_by_fund[i].insert(6, filings_by_fund_stocksOnly)\n",
    "print(len(filings_by_fund[0]))"
   ]
  },
  {
   "cell_type": "code",
   "execution_count": 72,
   "metadata": {
    "collapsed": true,
    "jupyter": {
     "outputs_hidden": true
    }
   },
   "outputs": [
    {
     "data": {
      "text/plain": [
       "['MIG Capital',\n",
       " '2020-11-16',\n",
       " [{'CUSIP': '00790R104',\n",
       "   'Company': 'ADVANCED DRAIN SYS INC DEL',\n",
       "   'Value': 56257,\n",
       "   'Shares': 900971},\n",
       "  {'CUSIP': '02079K107',\n",
       "   'Company': 'ALPHABET INC',\n",
       "   'Value': 41926,\n",
       "   'Shares': 28529},\n",
       "  {'CUSIP': '03768E105',\n",
       "   'Company': 'APOLLO GLOBAL MGMT INC',\n",
       "   'Value': 43902,\n",
       "   'Shares': 981046},\n",
       "  {'CUSIP': '04247X102',\n",
       "   'Company': 'ARMSTRONG WORLD INDS INC',\n",
       "   'Value': 46610,\n",
       "   'Shares': 677378},\n",
       "  {'CUSIP': '058498106',\n",
       "   'Company': 'BALL CORP',\n",
       "   'Value': 47143,\n",
       "   'Shares': 567169},\n",
       "  {'CUSIP': '101388106',\n",
       "   'Company': 'BOTTOMLINE TECH DEL INC',\n",
       "   'Value': 45453,\n",
       "   'Shares': 1078105},\n",
       "  {'CUSIP': '19239V302',\n",
       "   'Company': 'COGENT COMMUNICATIONS HLDGS',\n",
       "   'Value': 58938,\n",
       "   'Shares': 981480},\n",
       "  {'CUSIP': '237194105',\n",
       "   'Company': 'DARDEN RESTAURANTS INC',\n",
       "   'Value': 37218,\n",
       "   'Shares': 369442},\n",
       "  {'CUSIP': '31620M106',\n",
       "   'Company': 'FIDELITY NATL INFORMATION SV',\n",
       "   'Value': 35164,\n",
       "   'Shares': 238873},\n",
       "  {'CUSIP': '31847R102',\n",
       "   'Company': 'FIRST AMERN FINL CORP',\n",
       "   'Value': 40218,\n",
       "   'Shares': 789977},\n",
       "  {'CUSIP': '378973408',\n",
       "   'Company': 'GLOBALSTAR INC',\n",
       "   'Value': 2278,\n",
       "   'Shares': 7424285},\n",
       "  {'CUSIP': '399473206',\n",
       "   'Company': 'GROUPON INC',\n",
       "   'Value': 32584,\n",
       "   'Shares': 1597235},\n",
       "  {'CUSIP': '40049J206',\n",
       "   'Company': 'GRUPO TELEVISA SA',\n",
       "   'Value': 43508,\n",
       "   'Shares': 7040121},\n",
       "  {'CUSIP': '40171V100',\n",
       "   'Company': 'GUIDEWIRE SOFTWARE INC',\n",
       "   'Value': 45053,\n",
       "   'Shares': 432080},\n",
       "  {'CUSIP': 'G5480U120',\n",
       "   'Company': 'LIBERTY GLOBAL PLC',\n",
       "   'Value': 49545,\n",
       "   'Shares': 2412695},\n",
       "  {'CUSIP': '57636Q104',\n",
       "   'Company': 'MASTERCARD INCORPORATED',\n",
       "   'Value': 46929,\n",
       "   'Shares': 138773},\n",
       "  {'CUSIP': 'G66721104',\n",
       "   'Company': 'NORWEGIAN CRUISE LINE HLDG L',\n",
       "   'Value': 35697,\n",
       "   'Shares': 2086327},\n",
       "  {'CUSIP': '70450Y103',\n",
       "   'Company': 'PAYPAL HLDGS INC',\n",
       "   'Value': 48571,\n",
       "   'Shares': 246516},\n",
       "  {'CUSIP': '74967X103', 'Company': 'RH', 'Value': 62571, 'Shares': 163533},\n",
       "  {'CUSIP': '79466L302',\n",
       "   'Company': 'SALESFORCE COM INC',\n",
       "   'Value': 53670,\n",
       "   'Shares': 213551},\n",
       "  {'CUSIP': '808513105',\n",
       "   'Company': 'SCHWAB CHARLES CORP',\n",
       "   'Value': 39107,\n",
       "   'Shares': 1079399},\n",
       "  {'CUSIP': '833445109',\n",
       "   'Company': 'SNOWFLAKE INC',\n",
       "   'Value': 1255,\n",
       "   'Shares': 5000},\n",
       "  {'CUSIP': '872590104',\n",
       "   'Company': 'T-MOBILE US INC',\n",
       "   'Value': 67057,\n",
       "   'Shares': 586371}],\n",
       " [{'CUSIP': '00790R104',\n",
       "   'Company': 'ADVANCED DRAIN SYS INC DEL',\n",
       "   'Value': 56257,\n",
       "   'Shares': 900971},\n",
       "  {'CUSIP': '02079K107',\n",
       "   'Company': 'ALPHABET INC',\n",
       "   'Value': 41926,\n",
       "   'Shares': 28529},\n",
       "  {'CUSIP': '03768E105',\n",
       "   'Company': 'APOLLO GLOBAL MGMT INC',\n",
       "   'Value': 43902,\n",
       "   'Shares': 981046},\n",
       "  {'CUSIP': '04247X102',\n",
       "   'Company': 'ARMSTRONG WORLD INDS INC',\n",
       "   'Value': 46610,\n",
       "   'Shares': 677378},\n",
       "  {'CUSIP': '058498106',\n",
       "   'Company': 'BALL CORP',\n",
       "   'Value': 47143,\n",
       "   'Shares': 567169},\n",
       "  {'CUSIP': '101388106',\n",
       "   'Company': 'BOTTOMLINE TECH DEL INC',\n",
       "   'Value': 45453,\n",
       "   'Shares': 1078105},\n",
       "  {'CUSIP': '19239V302',\n",
       "   'Company': 'COGENT COMMUNICATIONS HLDGS',\n",
       "   'Value': 58938,\n",
       "   'Shares': 981480},\n",
       "  {'CUSIP': '237194105',\n",
       "   'Company': 'DARDEN RESTAURANTS INC',\n",
       "   'Value': 37218,\n",
       "   'Shares': 369442},\n",
       "  {'CUSIP': '31620M106',\n",
       "   'Company': 'FIDELITY NATL INFORMATION SV',\n",
       "   'Value': 35164,\n",
       "   'Shares': 238873},\n",
       "  {'CUSIP': '31847R102',\n",
       "   'Company': 'FIRST AMERN FINL CORP',\n",
       "   'Value': 40218,\n",
       "   'Shares': 789977},\n",
       "  {'CUSIP': '378973408',\n",
       "   'Company': 'GLOBALSTAR INC',\n",
       "   'Value': 2278,\n",
       "   'Shares': 7424285},\n",
       "  {'CUSIP': '399473206',\n",
       "   'Company': 'GROUPON INC',\n",
       "   'Value': 32584,\n",
       "   'Shares': 1597235},\n",
       "  {'CUSIP': '40049J206',\n",
       "   'Company': 'GRUPO TELEVISA SA',\n",
       "   'Value': 43508,\n",
       "   'Shares': 7040121},\n",
       "  {'CUSIP': '40171V100',\n",
       "   'Company': 'GUIDEWIRE SOFTWARE INC',\n",
       "   'Value': 45053,\n",
       "   'Shares': 432080},\n",
       "  {'CUSIP': 'G5480U120',\n",
       "   'Company': 'LIBERTY GLOBAL PLC',\n",
       "   'Value': 49545,\n",
       "   'Shares': 2412695},\n",
       "  {'CUSIP': '57636Q104',\n",
       "   'Company': 'MASTERCARD INCORPORATED',\n",
       "   'Value': 46929,\n",
       "   'Shares': 138773},\n",
       "  {'CUSIP': 'G66721104',\n",
       "   'Company': 'NORWEGIAN CRUISE LINE HLDG L',\n",
       "   'Value': 35697,\n",
       "   'Shares': 2086327},\n",
       "  {'CUSIP': '70450Y103',\n",
       "   'Company': 'PAYPAL HLDGS INC',\n",
       "   'Value': 48571,\n",
       "   'Shares': 246516},\n",
       "  {'CUSIP': '74967X103', 'Company': 'RH', 'Value': 62571, 'Shares': 163533},\n",
       "  {'CUSIP': '79466L302',\n",
       "   'Company': 'SALESFORCE COM INC',\n",
       "   'Value': 53670,\n",
       "   'Shares': 213551},\n",
       "  {'CUSIP': '808513105',\n",
       "   'Company': 'SCHWAB CHARLES CORP',\n",
       "   'Value': 39107,\n",
       "   'Shares': 1079399},\n",
       "  {'CUSIP': '833445109',\n",
       "   'Company': 'SNOWFLAKE INC',\n",
       "   'Value': 1255,\n",
       "   'Shares': 5000},\n",
       "  {'CUSIP': '872590104',\n",
       "   'Company': 'T-MOBILE US INC',\n",
       "   'Value': 67057,\n",
       "   'Shares': 586371}],\n",
       " 'https://www.sec.gov/cgi-bin/browse-edgar?action=getcompany&CIK=1425649&owner=exclude&count=40&hidefilings=0',\n",
       " ['ADVANCED DRAIN SYS INC DEL',\n",
       "  'ALPHABET INC',\n",
       "  'APOLLO GLOBAL MGMT INC',\n",
       "  'ARMSTRONG WORLD INDS INC',\n",
       "  'BALL CORP',\n",
       "  'BOTTOMLINE TECH DEL INC',\n",
       "  'COGENT COMMUNICATIONS HLDGS',\n",
       "  'DARDEN RESTAURANTS INC',\n",
       "  'FIDELITY NATL INFORMATION SV',\n",
       "  'FIRST AMERN FINL CORP',\n",
       "  'GLOBALSTAR INC',\n",
       "  'GROUPON INC',\n",
       "  'GRUPO TELEVISA SA',\n",
       "  'GUIDEWIRE SOFTWARE INC',\n",
       "  'LIBERTY GLOBAL PLC',\n",
       "  'MASTERCARD INCORPORATED',\n",
       "  'NORWEGIAN CRUISE LINE HLDG L',\n",
       "  'PAYPAL HLDGS INC',\n",
       "  'RH',\n",
       "  'SALESFORCE COM INC',\n",
       "  'SCHWAB CHARLES CORP',\n",
       "  'SNOWFLAKE INC',\n",
       "  'T-MOBILE US INC']]"
      ]
     },
     "execution_count": 72,
     "metadata": {},
     "output_type": "execute_result"
    }
   ],
   "source": [
    "filings_by_fund[0]\n",
    "filings_by_fund_stocksOnly\n",
    "list_of_invested_stocks[4]\n",
    "filings_by_fund[2]"
   ]
  },
  {
   "cell_type": "code",
   "execution_count": 29,
   "metadata": {},
   "outputs": [
    {
     "name": "stdout",
     "output_type": "stream",
     "text": [
      "5\n"
     ]
    }
   ],
   "source": [
    "filings_by_fund = df_recent_filing.reset_index().rename(columns={'index':'fund_name'}) \\\n",
    "                    [['fund_name','recent_filing_date','current_holdings','previous_holdings','link']\n",
    "                 ].dropna().head(n=50).values.tolist()\n",
    "#print(filings_by_fund[0])\n",
    "print(len(filings_by_fund[0]))"
   ]
  },
  {
   "cell_type": "code",
   "execution_count": 22,
   "metadata": {},
   "outputs": [
    {
     "name": "stdout",
     "output_type": "stream",
     "text": [
      "[['Tesla Inc', 2.94, 'https://finance.yahoo.com/quote/TSLA?p=TSLA'], ['Boeing Co', 2.56, 'https://finance.yahoo.com/quote/BA?p=BA'], ['Netflix Inc', 2.32, 'https://finance.yahoo.com/quote/NFLX?p=NFLX'], ['Apple Inc', 2.1, 'https://finance.yahoo.com/quote/AAPL?p=AAPL'], ['Exxon Mobil Corp', 2.09, 'https://finance.yahoo.com/quote/XOM?p=XOM'], ['Newmont Corp', 1.49, 'https://finance.yahoo.com/quote/NEM?p=NEM'], ['Amgen Inc', 1.4100000000000001, 'https://finance.yahoo.com/quote/AMGN?p=AMGN'], ['Altria Group Inc', 1.25, 'https://finance.yahoo.com/quote/MO?p=MO'], ['Intel Corp', 1.21, 'https://finance.yahoo.com/quote/INTC?p=INTC'], ['Square Inc', 1.19, 'https://finance.yahoo.com/quote/SQ?p=SQ'], ['Alibaba Group Hldg Ltd', 1.17, 'https://finance.yahoo.com/quote/BABA?p=BABA'], ['Facebook Inc', 1.11, 'https://finance.yahoo.com/quote/FB?p=FB'], ['Spdr Ser Tr', 1.1, 'https://finance.yahoo.com/quote/XOP?p=XOP'], ['Spdr S&P 500 Etf Tr', 1.09, 'https://finance.yahoo.com/quote/SPY?p=SPY'], ['Wells Fargo Co New', 1.09, 'https://finance.yahoo.com/quote/WFC?p=WFC'], ['Barrick Gold Corporation', 1.08, 'https://finance.yahoo.com/quote/GOLD?p=GOLD'], ['Abbvie Inc', 1.06, 'https://finance.yahoo.com/quote/ABBV?p=ABBV'], ['Target Corp', 1.06, 'https://finance.yahoo.com/quote/DYH?p=DYH'], ['Procter And Gamble Co', 1.05, 'https://finance.yahoo.com/quote/PG?p=PG'], ['Jpmorgan Chase & Co', 1.04, 'https://finance.yahoo.com/quote/JPM?p=JPM']]\n"
     ]
    }
   ],
   "source": [
    "with open(config.scrapped_json_fn, 'r') as f:\n",
    "        json_df = json.load(f)\n",
    "df = pd.read_json(json_df, orient='split')\n",
    "try:\n",
    "    ownership = df[['Company', 'Ownership','URL_Yahoo']\n",
    "                 ].dropna().head(n=20).values.tolist()\n",
    "except:\n",
    "    ownership = df[['Company', 'Ownership']\n",
    "                 ].dropna().head(n=20).values.tolist()\n",
    "print(ownership)"
   ]
  },
  {
   "cell_type": "code",
   "execution_count": 81,
   "metadata": {},
   "outputs": [
    {
     "name": "stdout",
     "output_type": "stream",
     "text": [
      "/Users/officialbiznas/Documents/GitHub/stockFries/static/json_df_dataByHedgeFund.txt\n",
      "Error in file Copy:  [Errno 2] No such file or directory: '/Users/officialbiznas/Documents/GitHub/stockFries/static/json_df_dataByHedgeFund.txt'\n"
     ]
    }
   ],
   "source": [
    "try: #Copy over files to static folder for downloading\n",
    "    to_static_fn_byHF = os.path.join(os.path.dirname(os.getcwd()),\n",
    "        'static',os.path.basename(config.scrapped_json_fn_hedgefund))\n",
    "    print(to_static_fn_byHF)\n",
    "    shutil.copyfile(config.scrapped_json_fn_hedgefund, to_static_fn_byHF)\n",
    "except Exception as e:\n",
    "    print('Error in file Copy: ', e, flush=True)"
   ]
  },
  {
   "cell_type": "code",
   "execution_count": 78,
   "metadata": {},
   "outputs": [],
   "source": [
    "to_static_fn_byHF = os.path.join(os.path.dirname(os.getcwd()),\n",
    "        'static',os.path.basename(config.scrapped_json_fn_hedgefund))"
   ]
  },
  {
   "cell_type": "code",
   "execution_count": null,
   "metadata": {},
   "outputs": [],
   "source": []
  }
 ],
 "metadata": {
  "kernelspec": {
   "display_name": "Python 3",
   "language": "python",
   "name": "python3"
  },
  "language_info": {
   "codemirror_mode": {
    "name": "ipython",
    "version": 3
   },
   "file_extension": ".py",
   "mimetype": "text/x-python",
   "name": "python",
   "nbconvert_exporter": "python",
   "pygments_lexer": "ipython3",
   "version": "3.7.9"
  }
 },
 "nbformat": 4,
 "nbformat_minor": 4
}
